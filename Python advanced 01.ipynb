{
 "cells": [
  {
   "cell_type": "markdown",
   "id": "5000a31b",
   "metadata": {},
   "source": [
    "# Python Advanced 01"
   ]
  },
  {
   "cell_type": "markdown",
   "id": "3d072f42",
   "metadata": {},
   "source": [
    "## 1. What is the purpose of Python's OOP?\n",
    "1. Object-Oriented Programming makes the program easy to understand as well as efficient.\n",
    "2. Since the class is sharable, the code can be reused.\n",
    "3. Data is safe and secure with data abstraction.\n",
    "4. Polymorphism allows the same interface for different objects, so programmers can write efficient code\n",
    "5. inherit feature allows programmer to inhetit the methods from existing programs."
   ]
  },
  {
   "cell_type": "markdown",
   "id": "b22814a4",
   "metadata": {},
   "source": [
    "## 2. Where does an inheritance search look for an attribute?\n",
    "Attribute fetches are simply tree searches. The term inheritance is applied because objects lower in a tree inherit attributes attached to objects higher in that tree. As the search proceeds from the bottom up, in a sense, the objects linked into a tree are the union of all the attributes defined in all their tree parents, all the way up the tree.\n"
   ]
  },
  {
   "cell_type": "markdown",
   "id": "b85a0d0d",
   "metadata": {},
   "source": [
    "## 3. How do you distinguish between a class object and an instance object?\n",
    "\n",
    "The differences between a class object and an instance object are:\n",
    "\n",
    "1. Class is a template for creating objects whereas object is an instance of class\n",
    "2. Seperate memory is allocated for each object whenever an object is created. but for a class this doesnot happens.\n",
    "3. A Class is created once. Many objects are created using a class.\n",
    "4. As Classes have no allocated memory. they can't be manipulated. but objects can be manipulated."
   ]
  },
  {
   "cell_type": "markdown",
   "id": "fd97246b",
   "metadata": {},
   "source": [
    "## 4. What makes the first argument in a class’s method function special?\n",
    "Python Classes usually have three types of methods which are:\n",
    "\n",
    "1. Instance Methods (object level methods)\n",
    "2. Class Methods (class level methods)\n",
    "3. Static Methods (general utility methods)\n",
    "4. 'self' is the first argument for instance methods. which refers to the object itself\n",
    "5. 'cls' is the first argument for class methods which refers to the class itself"
   ]
  },
  {
   "cell_type": "markdown",
   "id": "94e761e9",
   "metadata": {},
   "source": [
    "## 5. What is the purpose of the init method? "
   ]
  },
  {
   "cell_type": "raw",
   "id": "cfae77ba",
   "metadata": {},
   "source": [
    "___init___ is a reseved method in python classes. It serves the role of a constructor in object oriented terminology. This method is called when an object is created from a class and it allows the class to initialize the attributes of the class"
   ]
  },
  {
   "cell_type": "markdown",
   "id": "d9a97e7e",
   "metadata": {},
   "source": [
    "## 6. What is the process for creating a class instance?\n",
    "\n",
    "To create instances of a class,\n",
    "\n",
    "1. Create a class\n",
    "2. call the class using class name and assign it to a variable (object variable)\n",
    "3. pass in whatever arguments its init method accepts"
   ]
  },
  {
   "cell_type": "code",
   "execution_count": 2,
   "id": "9e384475",
   "metadata": {},
   "outputs": [],
   "source": [
    "class Employee:\n",
    "    empCount = 0\n",
    "\n",
    "    def __init__(self, name, salary):\n",
    "        self.name = name\n",
    "        self.salary = salary\n",
    "        Employee.empCount += 1\n",
    "        \n",
    "objClass = Employee('Bhanu','120000')"
   ]
  },
  {
   "cell_type": "markdown",
   "id": "1230f80a",
   "metadata": {},
   "source": [
    "### solution 2\n",
    "\n",
    "To create a class instance, we need to call the class by its name and pass the arguments to the class, which its init method accepts.\n",
    "\n",
    "Example: my_name = my_class(\"Mano\",\"vishnu\") Here my_name is an instance of class my_class with attributes \"Mano\" and \"Vishnu\"."
   ]
  },
  {
   "cell_type": "markdown",
   "id": "447cd70a",
   "metadata": {},
   "source": [
    "## 7. What is the process for creating a class?\n",
    " \n",
    "    class keyword is used to created a class in python. The syntax to create a class in python is class <classname>:\n",
    "\n",
    " Example: class Car: ➞ this creates a class called Car\n",
    "        \n",
    "        The class statement creates a new class definition. The name of the class immediately follows the keyword class followed by a colon.\n",
    "        \n",
    "        *process to create class*\n",
    "        \n",
    "        1. class definition starts with keyword class\n",
    "        2. follwed by classname and ':'\n",
    "        3. class will have doc string\n",
    "        4. class should have at least one statements."
   ]
  },
  {
   "cell_type": "markdown",
   "id": "4a24eeb9",
   "metadata": {},
   "source": [
    "## 8. How would you define the superclasses of a class?\n",
    "\n",
    "Superclass/Parent class is given as a arugment to the child class\n",
    "\n",
    "Example: class Employee(Person): Here child class Employee inherits attributes and methofs from Superclass/Parent Person\n",
    "        \n",
    "        ### A superclass is the class from which many subclasses can be created. The subclasses inherit the characteristics of a superclass. The superclass is also known as the parent class or base class.\n",
    "        ### The class from which a class inherits is called the parent or superclass"
   ]
  }
 ],
 "metadata": {
  "kernelspec": {
   "display_name": "Python 3 (ipykernel)",
   "language": "python",
   "name": "python3"
  },
  "language_info": {
   "codemirror_mode": {
    "name": "ipython",
    "version": 3
   },
   "file_extension": ".py",
   "mimetype": "text/x-python",
   "name": "python",
   "nbconvert_exporter": "python",
   "pygments_lexer": "ipython3",
   "version": "3.9.7"
  }
 },
 "nbformat": 4,
 "nbformat_minor": 5
}
