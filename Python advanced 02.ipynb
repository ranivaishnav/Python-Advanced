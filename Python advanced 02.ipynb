{
 "cells": [
  {
   "cell_type": "markdown",
   "id": "fc59c5f6",
   "metadata": {},
   "source": [
    "# Python advanced 02"
   ]
  },
  {
   "cell_type": "markdown",
   "id": "c1ad3be7",
   "metadata": {},
   "source": [
    "## 1. What is the relationship between classes and modules?\n",
    "\n",
    "Ans: A Python class is like an outline/blueprint/mold for creating a new object. An object is anything that you wish to manipulate or change while working through the code. Every time a class object is instantiated, which is when we declare a variable, a new object is initiated from scratch\n",
    "\n",
    "Whereas in Python, Modules are simply files with the . py extension containing Python code that can be imported inside another Python Program. In simple terms, we can consider a module to be the same as a code library or a file that contains a set of functions/Classes that you want to include in your application.\n",
    "\n",
    "Class:\n",
    "\n",
    "    1. A Class is like an object constructor, or a \"blueprint\" for creating objects.\n",
    "    2. a class can be instantiated.\n",
    "    3. Class can hold its state (by keeping track of instance variables)\n",
    "    4. class be duplicated as many times as you want by creating objects(instances)\n",
    "\n",
    "Module:\n",
    "\n",
    "    1. A module is a file containing Python definitions and statements. The file name is the module name with \n",
    "       the suffix .py appended. Within a module, the module’s name (as a string) is available as the value of \n",
    "       the global variable __name__. \n",
    "    2. Modules can be imported.\n",
    "    3. Module methods can be included or extended into instance methods."
   ]
  },
  {
   "cell_type": "markdown",
   "id": "f733287f",
   "metadata": {},
   "source": [
    "## 2. How do you make instances and classes?\n",
    "\n",
    "Instances To create instances of a class, we call the class using class name and pass in whatever arguments its init method accepts.\n",
    "\n",
    "Ex objclass = ClasseA(2,4)\n",
    "objclass is instance of class.\n",
    "\n",
    "Classes A class is a user-defined blueprint or prototype from which objects are created.\n",
    "\n",
    "ex : def classA:\n",
    "        pass    \n",
    "        \n",
    "        #solution\n",
    "        \n",
    "        Ans: For creating a class instance. we call a class by its name and pass the arguments which its __init__ method accepts.\n",
    "\n",
    "Example: vishwak = employee('Male',20000), Here vishwak is an instance of class employee with attriubutes 'Male' and 20000.\n",
    "\n",
    "Whereas for creating a class, we use the Class keyword. Class keyword is followed by classname and semicolon.\n",
    "\n",
    "Example: Here Employee is a class created with class keyword with arguments gender and salary.\n",
    "\n",
    "class Employee:\n",
    "\n",
    "    def __init__(self, gender,salary):\n",
    "        self.gender = gender\n",
    "        self.salary = salary"
   ]
  },
  {
   "cell_type": "markdown",
   "id": "c154b2c1",
   "metadata": {},
   "source": [
    "## 3. Where and how should be class attributes created?\n",
    "Ans: Class attributes or Class level Attributes belong to the class itself. these attributes will be shared by all the instances of the class. Hence these attributes are usually created/defined in the top of class definiation outside all methods.\n",
    "\n",
    "Ans: Class attributes belong to the class itself they will be shared by all the instances. Such attributes are defined in the class body parts usually at the top, for legibility.\n",
    "\n",
    "Example: In the below code we are defining a class attribute called no_of_wheels which will be shared by all the instances of the class Car"
   ]
  },
  {
   "cell_type": "code",
   "execution_count": 3,
   "id": "b41adb28",
   "metadata": {},
   "outputs": [],
   "source": [
    "class Car:\n",
    "    no_of_wheels = 4; # this is a class attribute\n",
    "    def __init__(self,color,price,engine):\n",
    "        self.color = color # All this are instance attributes\n",
    "        self.price = price\n",
    "        self.engine = engine"
   ]
  },
  {
   "cell_type": "markdown",
   "id": "07457d73",
   "metadata": {},
   "source": [
    "## 4. Where and how are instance attributes created?\n",
    "\n",
    "Unlike class attributes, instance attributes are not shared by objects. Every object has its own copy of the instance attribute. They are created in init method. How they are created is Explained below::\n"
   ]
  },
  {
   "cell_type": "code",
   "execution_count": 4,
   "id": "99650e4c",
   "metadata": {},
   "outputs": [
    {
     "name": "stdout",
     "output_type": "stream",
     "text": [
      "Akash Deep\n",
      "25\n"
     ]
    }
   ],
   "source": [
    "class Student:\n",
    "    def __init__(self,name, roll_no): # to bind attributes to class when object is created\n",
    "        self.name = name \n",
    "        self.roll_no = roll_no\n",
    "    \n",
    "    def __str__(self):\n",
    "        return f\"This is {self.name} (an instance of a class Student)\"\n",
    "    \n",
    "student1 = Student(\"Akash Deep\",25)  \n",
    "\n",
    "print(student1.name) # attributes are accessed by objects\n",
    "print(student1.roll_no)"
   ]
  },
  {
   "cell_type": "markdown",
   "id": "01b79bb1",
   "metadata": {},
   "source": [
    "## 5. What does the term 'self' in a Python class mean?\n",
    "\n",
    "The self parameter is a reference to the current instance of the class, and is used to access variables that belongs to the class. It does not have to be named self , you can call it whatever you like, but it has to be the first parameter of any function in the class"
   ]
  },
  {
   "cell_type": "markdown",
   "id": "8392d1be",
   "metadata": {},
   "source": [
    "Ans: self represents the instance of the class (it represents the object itself). By using the “self” keyword we can access the attributes and methods of the class with in the class in python. It binds the attributes with the given arguments."
   ]
  },
  {
   "cell_type": "markdown",
   "id": "4d02f8bd",
   "metadata": {},
   "source": [
    "Self represents the instance of the class. By using the “self” keyword we can access the attributes and methods of the class in python. It binds the attributes with the given arguments.The reason you need to use self. is because Python does not use the @ syntax to refer to instance attributes. Python decided to do methods in a way that makes the instance to which the method belongs be passed automatically, but not received automatically: the first parameter of methods is the instance the method is called on."
   ]
  },
  {
   "cell_type": "markdown",
   "id": "3fcc86ff",
   "metadata": {},
   "source": [
    "## 6. How does a Python class handle operator overloading?\n",
    "Ans: Python Classes handle operator overloading by using special methods called Magic methods. these special methods usually begin and end with __ (double underscore)\n",
    "Example: Magic methods for basic arithmetic operators are:\n",
    "\n",
    "1. + -> __add__()\n",
    "2. - -> __sub__()\n",
    "3. * -> __mul__()\n",
    "4. / -> __div__()"
   ]
  },
  {
   "cell_type": "code",
   "execution_count": 5,
   "id": "c8fc632b",
   "metadata": {},
   "outputs": [
    {
     "name": "stdout",
     "output_type": "stream",
     "text": [
      "The total number of pages in 2 books is 300\n"
     ]
    }
   ],
   "source": [
    "class Book:\n",
    "    def __init__(self,pages):\n",
    "        self.pages = pages\n",
    "    def __add__(self,other):\n",
    "        return self.pages + other.pages\n",
    "b1 = Book(100)\n",
    "b2 = Book(200)\n",
    "print(f'The total number of pages in 2 books is {b1+b2}')"
   ]
  },
  {
   "cell_type": "markdown",
   "id": "de29479a",
   "metadata": {},
   "source": [
    "## Q7. When do you consider allowing operator overloading of your classes?\n",
    "\n",
    "Ans: When we want to have different meaning for the same operator accroding to the context we use operator overloading.\n",
    "\n",
    "Consider that we have two objects which are a physical representation of a class (user-defined data type) and we have to add two objects with binary ‘+’ operator it throws an error, because compiler don’t know how to add two objects. So we define a method for an operator and that process is called operator overloading. Now the + operator will perform arithmetic addition on two numbers, merge two lists, or concatenate two strings."
   ]
  },
  {
   "cell_type": "markdown",
   "id": "d9a85d4b",
   "metadata": {},
   "source": [
    "## 8. What is the most popular form of operator overloading?\n",
    "Ans: The most popular form of operator overloading in python is by special methods called Magic methods. Which usually beign and end with double underscore __<method name>__."
   ]
  },
  {
   "cell_type": "code",
   "execution_count": 7,
   "id": "581532ec",
   "metadata": {},
   "outputs": [
    {
     "name": "stdout",
     "output_type": "stream",
     "text": [
      "Sum -> 3\n",
      "String Concatenation -> Mano Vishnu\n"
     ]
    }
   ],
   "source": [
    "class A:\n",
    "    def __init__(self,a):\n",
    "        self.a = a\n",
    "    def __add__(self,o):\n",
    "        return self.a+o.a\n",
    "obj1 = A(1)\n",
    "obj2 = A(2)\n",
    "obj3 = A('Mano')\n",
    "obj4 = A(' Vishnu')\n",
    "print(f'Sum -> {obj1+obj2}')\n",
    "print(f'String Concatenation -> {obj3+obj4}')"
   ]
  },
  {
   "cell_type": "markdown",
   "id": "58704cab",
   "metadata": {},
   "source": [
    "I feel, most popular form of operator overloading is of addition (+) operator. When two integers are passed to + operator, it will return the sum of two integers. When two strings are passed to + operator, it will return concatenation of two strings."
   ]
  },
  {
   "cell_type": "markdown",
   "id": "595b0220",
   "metadata": {},
   "source": [
    "## 9. What are the two most important concepts to grasp in order to comprehend Python OOP code?\n",
    "\n",
    "1. Inheritance.\n",
    "2. Polymorphism."
   ]
  },
  {
   "cell_type": "markdown",
   "id": "3955cbf5",
   "metadata": {},
   "source": [
    "The tow most important concept in order to comprehend python oop code are Classes and objects. where, classes represent and define concepts, while objects are instances of classes"
   ]
  },
  {
   "cell_type": "markdown",
   "id": "9c712ee1",
   "metadata": {},
   "source": [
    "Ans: Classes and objects are the two concepts to comprehend python OOP code as more formally objects are entities that represent instances of general abstract concept called class\n",
    "\n",
    "Along with classes and objects the important concepts to grasp are:\n",
    "\n",
    "1. Inheritence\n",
    "2. Abstraction\n",
    "3. Polymorphism\n",
    "4. Encapsulation"
   ]
  }
 ],
 "metadata": {
  "kernelspec": {
   "display_name": "Python 3 (ipykernel)",
   "language": "python",
   "name": "python3"
  },
  "language_info": {
   "codemirror_mode": {
    "name": "ipython",
    "version": 3
   },
   "file_extension": ".py",
   "mimetype": "text/x-python",
   "name": "python",
   "nbconvert_exporter": "python",
   "pygments_lexer": "ipython3",
   "version": "3.9.7"
  }
 },
 "nbformat": 4,
 "nbformat_minor": 5
}
