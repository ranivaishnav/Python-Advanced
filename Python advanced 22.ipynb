{
 "cells": [
  {
   "cell_type": "markdown",
   "id": "efdf8ae6",
   "metadata": {},
   "source": [
    "# Python Advanced 22"
   ]
  },
  {
   "cell_type": "markdown",
   "id": "51828ce1",
   "metadata": {},
   "source": [
    "## 1. What are the benefits of the built-in array package, if any?\n",
    "**Ans:** Arrays represent multiple data items of the same type using a single name. In arrays, the elements can be accessed randomly by using the index number. Arrays allocate memory in contiguous memory locations for all its elements. Hence there is no chance of extra memory being allocated in case of arrays. This avoids memory overflow or shortage of memory in arrays."
   ]
  },
  {
   "cell_type": "markdown",
   "id": "2e5c3b8f",
   "metadata": {},
   "source": [
    "## 2. What are some of the array package's limitations ?\n",
    "**Ans:** The number of elements to be stored in an array should be known in advance. An array is a static structure (which means the array is of fixed size). Once declared the size of the array cannot be modified. The memory which is allocated to it cannot be increased or decreased.\n",
    "\n",
    "Insertion and deletion are quite difficult in an array as the elements are stored in consecutive memory locations and the shifting operation is costly.\n",
    "\n",
    "Allocating more memory than the requirement leads to wastage of memory space and less allocation of memory also leads to a problem"
   ]
  },
  {
   "cell_type": "markdown",
   "id": "fd6c66e7",
   "metadata": {},
   "source": [
    "## 3. Describe the main differences between the array and numpy packages ?\n",
    "**Ans:** The array package doesn't provide any help with numerical calculation with the items insdie it in number form while NumPy give you a wide variety of numerical operations.\n",
    "\n",
    "An array is a single dimensional entity which hold the numerical data, while numpy can have more than 1 dimension.\n",
    "\n",
    "In case of array, item can be accessed by its index position and it is easy task while in numpy item is accessed by its column and row index, which makes it slightly time taking. Same goes with appending operation.\n",
    "\n",
    "In case of array we do not form a tabular structure, while in numpy it forms a tabular structure"
   ]
  },
  {
   "cell_type": "markdown",
   "id": "5e0c42f8",
   "metadata": {},
   "source": [
    "## 4. Explain the distinctions between the empty, ones, and zeros functions ?\n",
    "**Ans:** The distinctions between the `empty`, `ones`, and `zero` functions are as follows :\n",
    "\n",
    "`Empty function:` An empty function is a function that does not contain any statement within its body. If you try to write a function definition without any statement in python ,it will return an error. To avoid this, we use pass statement. pass is a special statement in Python that does nothing. It only works as a dummy statement.\n",
    "\n",
    "`Ones:` This function returns a new array of given shape and data type, where the element’s value is 1.\n",
    "\n",
    "`Zeros:` This function returns a new array of given shape and data type, where the element’s value is 0."
   ]
  },
  {
   "cell_type": "markdown",
   "id": "077c4151",
   "metadata": {},
   "source": [
    "## 5. In the fromfunction function, which is used to construct new arrays, what is the role of the callable argument ?\n",
    "**Ans:** Its function is to execute the function over each coordinate and the resulting array. The function is called with N parameters, where N is the rank of shape. Each parameter represents the coordinates of the array varying along a specific axis."
   ]
  },
  {
   "cell_type": "markdown",
   "id": "b9027576",
   "metadata": {},
   "source": [
    "## 6. What happens when a numpy array is combined with a single-value operand (a scalar, such as an int or a floating-point value) through addition, as in the expression *A + n* ?\n",
    "**Ans:** If any scaler value such as integer is added to the numpy array then all the elements inside the array will add that value in it."
   ]
  },
  {
   "cell_type": "markdown",
   "id": "109885a5",
   "metadata": {},
   "source": [
    "## 7. Can array-to-scalar operations use combined operation-assign operators (such as += or *=)? What is the outcome ?\n",
    "**Ans:** It will carry out provided operation on all elements of array."
   ]
  },
  {
   "cell_type": "markdown",
   "id": "ed07ad57",
   "metadata": {},
   "source": [
    "## 8. Does a numpy array contain fixed-length strings? What happens if you allocate a longer string to one of these arrays ?\n",
    "**Ans:** : Yes, it is possible that we can include a string of fixed length in numpy array. The dtype of any numpy array containing string values is the maximum length of any string present in the array.Once set, it will only be able to store new string having length not more than the maximum length at the time of the creation. If we try to reassign some another string value having length greater than the maximum length of the existing elements, it simply discards all the values beyond the maximum length accept upto those values which are under the limit."
   ]
  },
  {
   "cell_type": "markdown",
   "id": "50b56597",
   "metadata": {},
   "source": [
    "## 9. What happens when you combine two numpy arrays using an operation like addition (+) or multiplication (*)? What are the conditions for combining two numpy arrays ?\n",
    "**Ans:** It will simply add or multiply element to element at same position."
   ]
  },
  {
   "cell_type": "markdown",
   "id": "40b80910",
   "metadata": {},
   "source": [
    "## 10. What is the best way to use a Boolean array to mask another array ?\n",
    "**Ans:** The best way to use a Boolean array to mask another array is by Using `masked_where` of numpy package"
   ]
  },
  {
   "cell_type": "markdown",
   "id": "5b77f616",
   "metadata": {},
   "source": [
    "## 11. What are three different ways to get the standard deviation of a wide collection of data using both standard Python and its packages? Sort the three of them by how quickly they execute ?\n",
    "**Ans:** np.std and math package can be used individually."
   ]
  },
  {
   "cell_type": "markdown",
   "id": "a8407dcc",
   "metadata": {},
   "source": [
    "## 12. What is the dimensionality of a Boolean mask-generated array ?\n",
    "**Ans:** It will have same dimensionality as input array."
   ]
  }
 ],
 "metadata": {
  "kernelspec": {
   "display_name": "Python 3 (ipykernel)",
   "language": "python",
   "name": "python3"
  },
  "language_info": {
   "codemirror_mode": {
    "name": "ipython",
    "version": 3
   },
   "file_extension": ".py",
   "mimetype": "text/x-python",
   "name": "python",
   "nbconvert_exporter": "python",
   "pygments_lexer": "ipython3",
   "version": "3.9.7"
  }
 },
 "nbformat": 4,
 "nbformat_minor": 5
}
