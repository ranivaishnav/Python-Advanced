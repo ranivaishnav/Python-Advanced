{
 "cells": [
  {
   "cell_type": "markdown",
   "id": "6dc54f37",
   "metadata": {},
   "source": [
    "# Python Advanced 19"
   ]
  },
  {
   "cell_type": "markdown",
   "id": "703db4a7",
   "metadata": {},
   "source": [
    "# 1. Define the relationship between a class and its instances. Is it a one-to-one or a one-to-many partnership, for example?\n",
    "**Ans:** Relationship between a class and its instances is a one to many partnership."
   ]
  },
  {
   "cell_type": "markdown",
   "id": "0afb1e7f",
   "metadata": {},
   "source": [
    "# 2. What kind of data is held only in an instance?\n",
    "**Ans:** Instance objects contains the Instance variables which are specific to that specific Instance object."
   ]
  },
  {
   "cell_type": "markdown",
   "id": "cc70f516",
   "metadata": {},
   "source": [
    "# 3. What kind of knowledge is stored in a class?\n",
    "**Ans:** Class creates a user-defined data structure, which holds its own data members and member functions, which can be accessed and used by creating an instance of that class. A class is like a blueprint for an object."
   ]
  },
  {
   "cell_type": "markdown",
   "id": "8dcb2a39",
   "metadata": {},
   "source": [
    "# 4. What exactly is a method, and how is it different from a regular function?\n",
    "**Ans:** The methods with a class can be used to access the insatnce variables of its instance. So,the object's state can be modified by its method. Function can't access the attributes of an instance of a class or can't modify the state of the object."
   ]
  },
  {
   "cell_type": "markdown",
   "id": "5a4a7798",
   "metadata": {},
   "source": [
    "# 5. Is inheritance supported in Python, and if so, what is the syntax?\n",
    "**Ans:** Yes,Python supports inheritance. The Types of Inheritence Supported by Python are:\n",
    "\n",
    "1. Simple Inheritence\n",
    "2. Multiple Inheritence\n",
    "3. Multilevel lInheritence\n",
    "4. Hybrid Inheritence\n",
    "5. Hierracial Inheritence"
   ]
  },
  {
   "cell_type": "code",
   "execution_count": 1,
   "id": "0d2c8873",
   "metadata": {},
   "outputs": [],
   "source": [
    "class Person:\n",
    "    def __init__(self, fname, lname):\n",
    "        self.first_name = fname\n",
    "        self.last_name = lname\n",
    "class Student(Person):\n",
    "    pass"
   ]
  },
  {
   "cell_type": "markdown",
   "id": "dfd3520c",
   "metadata": {},
   "source": [
    "# 6. How much encapsulation (making instance or class variables private) does Python support?\n",
    "**Ans:** Encapsulation describes the idea of wrapping data and the methods that work on data within one unit. This puts restrictions on accessing variables and methods directly and can prevent the accidental modification of data. To prevent accidental change, an objects variable can only be changed by an objects method."
   ]
  },
  {
   "cell_type": "markdown",
   "id": "ebbe6bcb",
   "metadata": {},
   "source": [
    "# 7. How do you distinguish between a class variable and an instance variable?\n",
    "**Ans:** The Class Attribute is available to all the instance objects of that class. whereas Instance Attributes are accessible only to the object or Instance of that class.\n",
    "\n",
    "A single copy of Class attributes is maintained by pvm at the class level. Whereas difference copies of instance attributes are maintained by pvm at objects/instance level."
   ]
  },
  {
   "cell_type": "markdown",
   "id": "112f6b43",
   "metadata": {},
   "source": [
    "# 8. When, if ever, can self be included in a class's method definitions?\n",
    "**Ans:** Yes, self can included in class method definations to access the instance variables inside class methods."
   ]
  },
  {
   "cell_type": "markdown",
   "id": "9fbf7e5c",
   "metadata": {},
   "source": [
    "# 9. What is the difference between the __add__ and the __radd__ methods ?\n",
    "**Ans:** Entering **\\_\\_radd_\\_** Python will first try **\\_\\_add_\\_(),** and if that returns Not Implemented Python will check if the right-hand operand implements **\\_\\_radd_\\_,** and if it does, it will call **\\_\\_radd_\\_()** rather than raising a TypeError"
   ]
  },
  {
   "cell_type": "markdown",
   "id": "6b4b0ae3",
   "metadata": {},
   "source": [
    "# 10. When is it necessary to use a reflection method? When do you not need it, even though you support the operation in question?\n",
    "**Ans:** Reflection method we often encounter the requirement that a method in the executing object, or a variable in the calling object, or a field of the object should be assigned, while the method name or field name can not be determined when encoding the code, and need to be input in the form of passing strings through parameters."
   ]
  },
  {
   "cell_type": "markdown",
   "id": "19281465",
   "metadata": {},
   "source": [
    "# 11. What is the __iadd__ method called?\n",
    "**Ans:** **\\_\\_iadd_\\_** method is called when we use implementation like a+=b which is **a.\\_\\_iadd_\\_(b)**"
   ]
  },
  {
   "cell_type": "markdown",
   "id": "c1ae1a6a",
   "metadata": {},
   "source": [
    "# 12. Is the _ _init_ _ method inherited by subclasses? What do you do if you need to customize its behavior within a subclass ?\n",
    "**Ans:** Yes, **\\_\\_init_\\_** method will be inherited by subclasses. if we want to customize its behaviour within a subclass we can use **super()** method."
   ]
  }
 ],
 "metadata": {
  "kernelspec": {
   "display_name": "Python 3 (ipykernel)",
   "language": "python",
   "name": "python3"
  },
  "language_info": {
   "codemirror_mode": {
    "name": "ipython",
    "version": 3
   },
   "file_extension": ".py",
   "mimetype": "text/x-python",
   "name": "python",
   "nbconvert_exporter": "python",
   "pygments_lexer": "ipython3",
   "version": "3.9.7"
  }
 },
 "nbformat": 4,
 "nbformat_minor": 5
}
